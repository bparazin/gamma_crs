{
 "cells": [
  {
   "cell_type": "code",
   "execution_count": 18,
   "id": "6c2b3c05-23f9-4226-9997-db8b6844e0ea",
   "metadata": {},
   "outputs": [],
   "source": [
    "import pandas as pd\n",
    "import numpy as np\n",
    "import matplotlib.pyplot as plt\n",
    "\n",
    "LAMBDA = 0.03114"
   ]
  },
  {
   "cell_type": "code",
   "execution_count": 11,
   "id": "e0162cd6-b5e6-47e5-912c-bf4e25f4bfc5",
   "metadata": {},
   "outputs": [],
   "source": [
    "raw_data = pd.read_excel('../../../Downloads/APA1_gamma_09032021.xlsx')\n",
    "needed_data = pd.DataFrame()\n",
    "needed_data['depth_low'] = raw_data['depth_avg'] + 0.5\n",
    "needed_data['volume'] = 2 * np.ones(np.shape(raw_data['depth_avg']))\n",
    "needed_data['weight'] = raw_data['dry weight (kg)']\n",
    "needed_data['210pb'] = raw_data['210Pb']"
   ]
  },
  {
   "cell_type": "code",
   "execution_count": 48,
   "id": "09dcbacc-3cb6-441d-bcea-b7f8826812fa",
   "metadata": {},
   "outputs": [],
   "source": [
    "def get_crs_age(depth_low, volume, weight, pb, pb_bkg, equilbrium_row):\n",
    "    density = (weight / volume)\n",
    "    c = (pb - pb_bkg)\n",
    "    m = []\n",
    "    for i, density_i in enumerate(density):\n",
    "        if i == 0:\n",
    "            m_i = density_i * depth_low[i]\n",
    "        else:\n",
    "            m_i = m[i-1] + density_i * (depth_low[i] - depth_low[i-1])\n",
    "        m.append(m_i)\n",
    "    m = np.asarray(m)\n",
    "    \n",
    "    a_hat = []\n",
    "    for i, c_i in enumerate(c):\n",
    "        if i == 0:\n",
    "            a_hat_i = c_i * m[i] / 2\n",
    "        else:\n",
    "            a_hat_i = a_hat[i-1] + (c_i + c[i-1]) * (m[i] - m[i-1]) / 2\n",
    "        a_hat.append(a_hat_i)\n",
    "    a_hat = np.asarray(a_hat)\n",
    "    \n",
    "    a_0 = (a_hat[equilbrium_row-1] + \n",
    "           c[equilbrium_row-1] * (m[equilbrium_row] - m[equilbrium_row-1]) / 2)\n",
    "\n",
    "    print(a_0)\n",
    "    \n",
    "    print(a_hat)\n",
    "    \n",
    "    t = 1 / LAMBDA * np.log(a_0 / (a_0 - a_hat))\n",
    "    \n",
    "    return t"
   ]
  },
  {
   "cell_type": "code",
   "execution_count": 53,
   "id": "b9032549-f78f-4327-a0fe-fdf6bdb4aa75",
   "metadata": {},
   "outputs": [
    {
     "name": "stdout",
     "output_type": "stream",
     "text": [
      "0.6967965574999998\n",
      "[0.01315031 0.03519015 0.0550552  0.07501394 0.09740652 0.1328663\n",
      " 0.1749083  0.21774256 0.25806603 0.2821903  0.29064692 0.30390783\n",
      " 0.32456028 0.3532899  0.37231203 0.38932784 0.39881532 0.40111405\n",
      " 0.40446183 0.40872218 0.41128681 0.41616672 0.49272547 0.57993322\n",
      " 0.63570542 0.66963422 0.68887881 0.69796093 0.69796093]\n"
     ]
    },
    {
     "name": "stderr",
     "output_type": "stream",
     "text": [
      "C:\\Users\\Bparazin\\AppData\\Local\\Temp\\ipykernel_14100\\4111121969.py:29: RuntimeWarning: invalid value encountered in log\n",
      "  t = 1 / LAMBDA * np.log(a_0 / (a_0 - a_hat))\n"
     ]
    },
    {
     "data": {
      "text/plain": [
       "array([  0.61184573,   1.66418269,   2.64316418,   3.65776952,\n",
       "         4.83561179,   6.79392708,   9.28195172,  12.03211798,\n",
       "        14.85575086,  16.67193938,  17.33371317,  18.39971257,\n",
       "        20.13374046,  22.71313398,  24.54257004,  26.27232237,\n",
       "        27.27883575,  27.52752755,  27.89319216,  28.36463686,\n",
       "        28.65180816,  29.20542673,  39.43561605,  57.33745307,\n",
       "        78.16720226, 104.19595768, 143.78247946,          nan,\n",
       "                nan])"
      ]
     },
     "execution_count": 53,
     "metadata": {},
     "output_type": "execute_result"
    }
   ],
   "source": [
    "get_crs_age(needed_data['depth_low'], needed_data['volume'], needed_data['weight'], needed_data['210pb'], 3.11, 27)"
   ]
  },
  {
   "cell_type": "code",
   "execution_count": null,
   "id": "f1c11c4b-d250-4578-b86e-b3a372d3f4e4",
   "metadata": {},
   "outputs": [],
   "source": []
  }
 ],
 "metadata": {
  "kernelspec": {
   "display_name": "Python 3 (ipykernel)",
   "language": "python",
   "name": "python3"
  },
  "language_info": {
   "codemirror_mode": {
    "name": "ipython",
    "version": 3
   },
   "file_extension": ".py",
   "mimetype": "text/x-python",
   "name": "python",
   "nbconvert_exporter": "python",
   "pygments_lexer": "ipython3",
   "version": "3.10.4"
  }
 },
 "nbformat": 4,
 "nbformat_minor": 5
}
