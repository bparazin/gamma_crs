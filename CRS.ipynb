{
 "cells": [
  {
   "cell_type": "code",
   "execution_count": 1,
   "id": "6c2b3c05-23f9-4226-9997-db8b6844e0ea",
   "metadata": {},
   "outputs": [],
   "source": [
    "import pandas as pd\n",
    "import numpy as np\n",
    "import matplotlib.pyplot as plt\n",
    "\n",
    "LAMBDA = 0.03114"
   ]
  },
  {
   "cell_type": "code",
   "execution_count": 205,
   "id": "e0162cd6-b5e6-47e5-912c-bf4e25f4bfc5",
   "metadata": {},
   "outputs": [],
   "source": [
    "raw_data = pd.read_excel('../../../Downloads/COL17-3_gamma_08292018.xlsx', 1)\n",
    "needed_data = pd.DataFrame()\n",
    "needed_data['depth_low'] = raw_data['dpeth_low']\n",
    "needed_data['volume'] = raw_data['volume (cm3)']\n",
    "needed_data['weight'] = raw_data['weight (g)']\n",
    "needed_data['210pb'] = raw_data['210Pb']\n",
    "needed_data['210pb_err'] = raw_data['err']"
   ]
  },
  {
   "cell_type": "code",
   "execution_count": 219,
   "id": "09dcbacc-3cb6-441d-bcea-b7f8826812fa",
   "metadata": {},
   "outputs": [],
   "source": [
    "def get_crs_age(depth_low, volume, weight, pb, equilbrium_row, pb_err, p = 0.07, A_0_method = 'default', ref_line = None, ref_year = None):\n",
    "    \n",
    "    if A_0_method == 'refdate':\n",
    "        assert ref_line is not None\n",
    "        assert ref_year is not None\n",
    "    \n",
    "    pb_bkg = np.mean(pb[equilbrium_row:])\n",
    "    density = (weight / volume)\n",
    "    c = (pb - pb_bkg)\n",
    "    m = []\n",
    "    for i, density_i in enumerate(density):\n",
    "        if i == 0:\n",
    "            m_i = density_i * depth_low[i]\n",
    "        else:\n",
    "            m_i = m[i-1] + density_i * (depth_low[i] - depth_low[i-1])\n",
    "        m.append(m_i)\n",
    "    m = np.asarray(m)\n",
    "    \n",
    "    a_hat = []\n",
    "    a_hat_err = []\n",
    "    for i, c_i in enumerate(c):\n",
    "        if i == 0:\n",
    "            a_hat_i = c_i * m[i] / 2\n",
    "            a_hat_i_err = np.sqrt((pb_err[i]**2 + c_i**2 * p**2) * m[i]**2)\n",
    "        else:\n",
    "            a_hat_i = a_hat[i-1] + (c_i + c[i-1]) * (m[i] - m[i-1]) / 2\n",
    "            a_hat_i_err = np.sqrt((pb_err[i]**2 + c_i**2 * p**2) * (m[i] - m[i-1])**2)\n",
    "        a_hat.append(a_hat_i)\n",
    "        a_hat_err.append(a_hat_i_err)\n",
    "    a_hat = np.asarray(a_hat)\n",
    "    a_hat_err = np.asarray(a_hat_err)\n",
    "\n",
    "    a_0, a_0_err = get_A_0(a_hat, a_hat_err, c, m, pb, pb_err, equilbrium_row, A_0_method, ref_line, ref_year)\n",
    "    \n",
    "    t = 1 / LAMBDA * np.log(a_0 / (a_0 - a_hat))\n",
    "    t_err = 1 / LAMBDA * np.sqrt(np.abs((a_0_err/a_0)**2 + (1 - 2*(a_0 - a_hat)/a_0) * (a_0_err**2 + a_hat_err**2)/(a_0-a_hat)**2))\n",
    "    \n",
    "    return t[:equilbrium_row], t_err[:equilbrium_row]"
   ]
  },
  {
   "cell_type": "code",
   "execution_count": 220,
   "id": "1939afd8-b294-42fe-b28d-d1001e4146b2",
   "metadata": {},
   "outputs": [],
   "source": [
    "def get_A_0(a_hat, a_hat_err, c, m, pb, pb_err, equilbrium_row, A_0_method, ref_line, ref_year):\n",
    "    if A_0_method == 'default':\n",
    "        A_0 = (a_hat[equilbrium_row-1] + c[equilbrium_row-1] * (m[equilbrium_row] - m[equilbrium_row-1]) / 2) * np.ones(np.shape(a_hat))\n",
    "        A_0_err = np.sqrt(pb_err[equilbrium_row-1]**2 + a_hat_err[equilbrium_row-1]**2) * np.ones(np.shape(a_hat))\n",
    "        \n",
    "    if A_0_method == 'refdate':\n",
    "        A_0 = ((a_hat[ref_line] + a_hat[ref_line]/(np.exp(LAMBDA * ref_year) - 1)) * np.heaviside(ref_line - np.arange(0, len(a_hat), 1), 1)\n",
    "              + (a_hat[equilbrium_row-1] + c[equilbrium_row-1] * (m[equilbrium_row] - m[equilbrium_row-1]) / 2) * np.heaviside(np.arange(0, len(a_hat), 1) - ref_line, 0))\n",
    "        A_0_err = (np.sqrt(pb_err[ref_line]**2 + a_hat_err[ref_line]**2) * np.heaviside(ref_line - np.arange(0, len(a_hat), 1), 1)\n",
    "                   + (np.sqrt(pb_err[equilbrium_row-1]**2 + a_hat_err[equilbrium_row-1]**2) * np.ones(np.shape(a_hat)) * np.heaviside(np.arange(0, len(a_hat), 1) - ref_line, 0)))\n",
    "    \n",
    "    return A_0, A_0_err"
   ]
  },
  {
   "cell_type": "code",
   "execution_count": 226,
   "id": "b9032549-f78f-4327-a0fe-fdf6bdb4aa75",
   "metadata": {},
   "outputs": [],
   "source": [
    "time, tu = get_crs_age(needed_data['depth_low'], needed_data['volume'], needed_data['weight'], needed_data['210pb'], 12, needed_data['210pb_err'], \n",
    "            A_0_method = 'default', ref_line = 22, ref_year = 57)"
   ]
  },
  {
   "cell_type": "code",
   "execution_count": 222,
   "id": "7e8d86fd-e3df-4b31-9016-6987eb9fee9d",
   "metadata": {},
   "outputs": [],
   "source": [
    "time2, t2u = get_crs_age(needed_data['depth_low'], needed_data['volume'], needed_data['weight'], needed_data['210pb'], 12, needed_data['210pb_err'], \n",
    "            A_0_method = 'refdate', ref_line = 6, ref_year = 54)"
   ]
  },
  {
   "cell_type": "code",
   "execution_count": 251,
   "id": "199d8a50-1afe-41d2-9cd3-2fc51f925870",
   "metadata": {},
   "outputs": [],
   "source": [
    "def plot_years(depths, years, yr_err):\n",
    "    fig, ax = plt.subplots(figsize = (10,10))\n",
    "    ax.errorbar(years, depths[:len(years)], xerr = yr_err, fmt = 'o')\n",
    "    ax.invert_yaxis()\n",
    "    ax.set_ylabel('Depth (cm)')\n",
    "    ax.set_xlabel('Year')\n",
    "    ax.grid(alpha = 0.5)\n",
    "    plt.show\n"
   ]
  },
  {
   "cell_type": "code",
   "execution_count": 252,
   "id": "6fc85b88-22e3-4592-95ea-5febe9dbf243",
   "metadata": {},
   "outputs": [
    {
     "data": {
      "image/png": "[encoded data removed]",
      "text/plain": [
       "<Figure size 720x720 with 1 Axes>"
      ]
     },
     "metadata": {
      "needs_background": "light"
     },
     "output_type": "display_data"
    }
   ],
   "source": [
    "plot_years(needed_data['depth_low'], 2017-time, tu)"
   ]
  },
  {
   "cell_type": "code",
   "execution_count": 250,
   "id": "ac674df8-3102-4e15-bf6f-dfbbad1fb1d0",
   "metadata": {},
   "outputs": [
    {
     "data": {
      "image/png": "[encoded data removed]",
      "text/plain": [
       "<Figure size 720x720 with 1 Axes>"
      ]
     },
     "metadata": {
      "needs_background": "light"
     },
     "output_type": "display_data"
    }
   ],
   "source": [
    "plot_years(needed_data['depth_low'], 2017-time2, t2u)"
   ]
  },
  {
   "cell_type": "code",
   "execution_count": null,
   "id": "bcf23835-618d-42ab-9fd4-ec9e917e23b9",
   "metadata": {},
   "outputs": [],
   "source": []
  }
 ],
 "metadata": {
  "kernelspec": {
   "display_name": "Python 3 (ipykernel)",
   "language": "python",
   "name": "python3"
  },
  "language_info": {
   "codemirror_mode": {
    "name": "ipython",
    "version": 3
   },
   "file_extension": ".py",
   "mimetype": "text/x-python",
   "name": "python",
   "nbconvert_exporter": "python",
   "pygments_lexer": "ipython3",
   "version": "3.10.4"
  }
 },
 "nbformat": 4,
 "nbformat_minor": 5
}
